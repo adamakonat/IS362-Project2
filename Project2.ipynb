{
  "metadata": {
    "language_info": {
      "codemirror_mode": {
        "name": "python",
        "version": 3
      },
      "file_extension": ".py",
      "mimetype": "text/x-python",
      "name": "python",
      "nbconvert_exporter": "python",
      "pygments_lexer": "ipython3",
      "version": "3.8"
    },
    "kernelspec": {
      "name": "python",
      "display_name": "Python (Pyodide)",
      "language": "python"
    }
  },
  "nbformat_minor": 4,
  "nbformat": 4,
  "cells": [
    {
      "cell_type": "code",
      "source": "import numpy as np\nimport pandas as pd",
      "metadata": {
        "trusted": true
      },
      "execution_count": 1,
      "outputs": []
    },
    {
      "cell_type": "markdown",
      "source": "Adama Konate - IS362 / Project 2",
      "metadata": {}
    },
    {
      "cell_type": "markdown",
      "source": "I'm using the 2010-2014 lists compiled by Interpol for the Most Wanted fugitives.",
      "metadata": {}
    },
    {
      "cell_type": "code",
      "source": "fugs_data = pd.read_csv('Fugitives.csv')\nFugitives = fugs_data.copy()\nFugitives.head()",
      "metadata": {
        "trusted": true
      },
      "execution_count": 2,
      "outputs": [
        {
          "execution_count": 2,
          "output_type": "execute_result",
          "data": {
            "text/plain": "                 Fugitive                   Nationality     Wanted by  \\\n0        Viktoryia TSUNIK                       Belarus       Belarus   \n1       Adriano GIACOBONE                         Italy         Italy   \n2          Sudiman SUNOTO                     Indonesia     Indonesia   \n3  David Macdonald CARROL                        Canada        Canada   \n4           Jason HOLLAND  United Kingdom, South Africa  South Africa   \n\n                                          Wanted for  \\\n0                                       Theft, Fraud   \n1  Kidnapping, Possession of firearms and/or expl...   \n2              Illegal Logging, Environmental Crimes   \n3              Murder, Attempted Murder, Drug Crimes   \n4                                              Fraud   \n\n                        Details of reason wanted for  \\\n0                            Theft by abuse of power   \n1  Kidnapping, illegal detention and carrying of ...   \n2                                    Illegal logging   \n3  Murder, Conspiracy to murder, drug trafficking...   \n4                                              Fraud   \n\n      Country believed to be in / Country of capture  Date of Birth  \\\n0                    Angola, Europe, Russia, Ukraine         1961.0   \n1        Argentina, France, Morocco, Paraguay, Spain         1957.0   \n2                                               Asia         1962.0   \n3  Australia, Brazil, Europe, Mexico, New Zealand...         1952.0   \n4         Australia, United Kingdom, The Netherlands         1967.0   \n\n   Current Age (approx.)     Sex Status  \\\n0                   53.0  Female   Free   \n1                   57.0    Male   Free   \n2                   52.0    Male   Free   \n3                   62.0    Male   Free   \n4                   47.0    Male   Free   \n\n                                             Details  \\\n0  Founder of the \"Tsunik\" company in Vitebsk, Be...   \n1  Among a series of court judgments, GIACOBONE h...   \n2  On 11 November 2006, the Indonesian Criminal I...   \n3  CARROL is a member of the Quebec Nomads Chapte...   \n4   In 2007 HOLLAND was employed as a Financial D...   \n\n  Year of Interpol operation  \\\n0                       2012   \n1                       2014   \n2                       2014   \n3                 2012, 2010   \n4                       2010   \n\n                                              Source  \\\n0  www.interpol.int/Media/Files/Crime-areas/Fugit...   \n1  www.interpol.int/Media/Files/Crime-areas/Fugit...   \n2  www.interpol.int/Media/Files/Crime-areas/Fugit...   \n3  www.interpol.int/Media/Files/Crime-areas/Fugit...   \n4  www.interpol.int/Media/Files/Crime-areas/Fugit...   \n\n                         Interpol Red Notice Profile  \\\n0  http://www.interpol.int/notice/search/wanted/2...   \n1  http://www.interpol.int/notice/search/wanted/1...   \n2  http://www.interpol.int/notice/search/wanted/2...   \n3  http://www.interpol.int/notice/search/wanted/1...   \n4  http://www.interpol.int/notice/search/wanted/2...   \n\n                                               Image  \n0  http://www.interpol.int/var/interpol/cache/ws/...  \n1  http://www.interpol.int/var/interpol/cache/ws/...  \n2  http://www.interpol.int/var/interpol/cache/ws/...  \n3  http://www.interpol.int/var/interpol/cache/ws/...  \n4  http://www.interpol.int/var/interpol/cache/ws/...  ",
            "text/html": "<div>\n<style scoped>\n    .dataframe tbody tr th:only-of-type {\n        vertical-align: middle;\n    }\n\n    .dataframe tbody tr th {\n        vertical-align: top;\n    }\n\n    .dataframe thead th {\n        text-align: right;\n    }\n</style>\n<table border=\"1\" class=\"dataframe\">\n  <thead>\n    <tr style=\"text-align: right;\">\n      <th></th>\n      <th>Fugitive</th>\n      <th>Nationality</th>\n      <th>Wanted by</th>\n      <th>Wanted for</th>\n      <th>Details of reason wanted for</th>\n      <th>Country believed to be in / Country of capture</th>\n      <th>Date of Birth</th>\n      <th>Current Age (approx.)</th>\n      <th>Sex</th>\n      <th>Status</th>\n      <th>Details</th>\n      <th>Year of Interpol operation</th>\n      <th>Source</th>\n      <th>Interpol Red Notice Profile</th>\n      <th>Image</th>\n    </tr>\n  </thead>\n  <tbody>\n    <tr>\n      <th>0</th>\n      <td>Viktoryia TSUNIK</td>\n      <td>Belarus</td>\n      <td>Belarus</td>\n      <td>Theft, Fraud</td>\n      <td>Theft by abuse of power</td>\n      <td>Angola, Europe, Russia, Ukraine</td>\n      <td>1961.0</td>\n      <td>53.0</td>\n      <td>Female</td>\n      <td>Free</td>\n      <td>Founder of the \"Tsunik\" company in Vitebsk, Be...</td>\n      <td>2012</td>\n      <td>www.interpol.int/Media/Files/Crime-areas/Fugit...</td>\n      <td>http://www.interpol.int/notice/search/wanted/2...</td>\n      <td>http://www.interpol.int/var/interpol/cache/ws/...</td>\n    </tr>\n    <tr>\n      <th>1</th>\n      <td>Adriano GIACOBONE</td>\n      <td>Italy</td>\n      <td>Italy</td>\n      <td>Kidnapping, Possession of firearms and/or expl...</td>\n      <td>Kidnapping, illegal detention and carrying of ...</td>\n      <td>Argentina, France, Morocco, Paraguay, Spain</td>\n      <td>1957.0</td>\n      <td>57.0</td>\n      <td>Male</td>\n      <td>Free</td>\n      <td>Among a series of court judgments, GIACOBONE h...</td>\n      <td>2014</td>\n      <td>www.interpol.int/Media/Files/Crime-areas/Fugit...</td>\n      <td>http://www.interpol.int/notice/search/wanted/1...</td>\n      <td>http://www.interpol.int/var/interpol/cache/ws/...</td>\n    </tr>\n    <tr>\n      <th>2</th>\n      <td>Sudiman SUNOTO</td>\n      <td>Indonesia</td>\n      <td>Indonesia</td>\n      <td>Illegal Logging, Environmental Crimes</td>\n      <td>Illegal logging</td>\n      <td>Asia</td>\n      <td>1962.0</td>\n      <td>52.0</td>\n      <td>Male</td>\n      <td>Free</td>\n      <td>On 11 November 2006, the Indonesian Criminal I...</td>\n      <td>2014</td>\n      <td>www.interpol.int/Media/Files/Crime-areas/Fugit...</td>\n      <td>http://www.interpol.int/notice/search/wanted/2...</td>\n      <td>http://www.interpol.int/var/interpol/cache/ws/...</td>\n    </tr>\n    <tr>\n      <th>3</th>\n      <td>David Macdonald CARROL</td>\n      <td>Canada</td>\n      <td>Canada</td>\n      <td>Murder, Attempted Murder, Drug Crimes</td>\n      <td>Murder, Conspiracy to murder, drug trafficking...</td>\n      <td>Australia, Brazil, Europe, Mexico, New Zealand...</td>\n      <td>1952.0</td>\n      <td>62.0</td>\n      <td>Male</td>\n      <td>Free</td>\n      <td>CARROL is a member of the Quebec Nomads Chapte...</td>\n      <td>2012, 2010</td>\n      <td>www.interpol.int/Media/Files/Crime-areas/Fugit...</td>\n      <td>http://www.interpol.int/notice/search/wanted/1...</td>\n      <td>http://www.interpol.int/var/interpol/cache/ws/...</td>\n    </tr>\n    <tr>\n      <th>4</th>\n      <td>Jason HOLLAND</td>\n      <td>United Kingdom, South Africa</td>\n      <td>South Africa</td>\n      <td>Fraud</td>\n      <td>Fraud</td>\n      <td>Australia, United Kingdom, The Netherlands</td>\n      <td>1967.0</td>\n      <td>47.0</td>\n      <td>Male</td>\n      <td>Free</td>\n      <td>In 2007 HOLLAND was employed as a Financial D...</td>\n      <td>2010</td>\n      <td>www.interpol.int/Media/Files/Crime-areas/Fugit...</td>\n      <td>http://www.interpol.int/notice/search/wanted/2...</td>\n      <td>http://www.interpol.int/var/interpol/cache/ws/...</td>\n    </tr>\n  </tbody>\n</table>\n</div>"
          },
          "metadata": {}
        }
      ]
    },
    {
      "cell_type": "markdown",
      "source": "How many female fugitives in the world?",
      "metadata": {}
    },
    {
      "cell_type": "code",
      "source": "fugs_data = Fugitives.groupby(['Sex'])['Nationality'].count()\nprint(fugs_data)",
      "metadata": {
        "trusted": true
      },
      "execution_count": 6,
      "outputs": [
        {
          "name": "stdout",
          "text": "Sex\nFemale     3\nMale      92\nName: Nationality, dtype: int64\n",
          "output_type": "stream"
        }
      ]
    },
    {
      "cell_type": "markdown",
      "source": "The Number of fugitives by country",
      "metadata": {}
    },
    {
      "cell_type": "code",
      "source": "fugs_data = Fugitives.groupby(['Nationality'])['Nationality'].count()\nprint(fugs_data)",
      "metadata": {
        "trusted": true
      },
      "execution_count": 7,
      "outputs": [
        {
          "name": "stdout",
          "text": "Nationality\nAlbania                         3\nArgentina                       2\nAustralia                       1\nAustria                         1\nBangladesh                      2\nBelarus                         1\nBelize                          1\nBrazil                          2\nCanada                          3\nChile                           1\nColombia                        3\nCroatia                         1\nCzech Republic                  3\nDominican Republic              1\nEl Salvador                     2\nEstonia                         1\nFinland                         1\nGeorgia                         2\nGreece                          1\nHonduras                        1\nHungary                         2\nIndonesia                       1\nIraq                            1\nIreland                         1\nItaly                           1\nKenya                           1\nLithuania                       1\nMexico                          3\nMontenegro                      3\nMorocco                         1\nMorocco, Finland                1\nNicaragua                       1\nPakistan                        1\nParaguay                        1\nPeru                            2\nPoland                          4\nRomania                         4\nRussia                          1\nRussia, Germany                 1\nSlovakia                        2\nSomalia                         1\nSouth Africa                    1\nSpain                           1\nSwaziland, South Africa         1\nSweden                          2\nThe Netherlands                 6\nUkraine                         1\nUnited Kingdom                  5\nUnited Kingdom, South Africa    1\nUnited States                   7\nUnited States, Ireland          1\nUruguay                         1\nZambia                          1\nName: Nationality, dtype: int64\n",
          "output_type": "stream"
        }
      ]
    },
    {
      "cell_type": "markdown",
      "source": "Fugitives by Region:",
      "metadata": {}
    },
    {
      "cell_type": "code",
      "source": "reg = pd.read_csv('Regions.csv')\nreg",
      "metadata": {
        "trusted": true
      },
      "execution_count": 8,
      "outputs": [
        {
          "execution_count": 8,
          "output_type": "execute_result",
          "data": {
            "text/plain": "               Region  National Fugitives  Wanted Fugitives  \\\n0                Asia                   8                 5   \n1     Central America                   9                 7   \n2              Europe                  50                50   \n3       North America                  11                15   \n4     Northern Africa                   2                 0   \n5             Oceania                   1                 1   \n6       South America                  12                11   \n7     Southern Africa                   5                 4   \n8  Sub Saharan Africa                   2                 3   \n\n   Possible Hosted Fugitives / Captured Fugitives            Coordinates  \n0                                               8      N46.2830,E86.6700  \n1                                              23      N17.4000,W91.0000  \n2                                              34      N45.0000,E90.0000  \n3                                              19     N48.1667,W100.1667  \n4                                               3  N28.381735,E12.216797  \n5                                               2     S30.0000,E140.0000  \n6                                              20      S13.0000,W59.4000  \n7                                               5  S24.647017,E24.125977  \n8                                               5   N5.528511,E23.686523  ",
            "text/html": "<div>\n<style scoped>\n    .dataframe tbody tr th:only-of-type {\n        vertical-align: middle;\n    }\n\n    .dataframe tbody tr th {\n        vertical-align: top;\n    }\n\n    .dataframe thead th {\n        text-align: right;\n    }\n</style>\n<table border=\"1\" class=\"dataframe\">\n  <thead>\n    <tr style=\"text-align: right;\">\n      <th></th>\n      <th>Region</th>\n      <th>National Fugitives</th>\n      <th>Wanted Fugitives</th>\n      <th>Possible Hosted Fugitives / Captured Fugitives</th>\n      <th>Coordinates</th>\n    </tr>\n  </thead>\n  <tbody>\n    <tr>\n      <th>0</th>\n      <td>Asia</td>\n      <td>8</td>\n      <td>5</td>\n      <td>8</td>\n      <td>N46.2830,E86.6700</td>\n    </tr>\n    <tr>\n      <th>1</th>\n      <td>Central America</td>\n      <td>9</td>\n      <td>7</td>\n      <td>23</td>\n      <td>N17.4000,W91.0000</td>\n    </tr>\n    <tr>\n      <th>2</th>\n      <td>Europe</td>\n      <td>50</td>\n      <td>50</td>\n      <td>34</td>\n      <td>N45.0000,E90.0000</td>\n    </tr>\n    <tr>\n      <th>3</th>\n      <td>North America</td>\n      <td>11</td>\n      <td>15</td>\n      <td>19</td>\n      <td>N48.1667,W100.1667</td>\n    </tr>\n    <tr>\n      <th>4</th>\n      <td>Northern Africa</td>\n      <td>2</td>\n      <td>0</td>\n      <td>3</td>\n      <td>N28.381735,E12.216797</td>\n    </tr>\n    <tr>\n      <th>5</th>\n      <td>Oceania</td>\n      <td>1</td>\n      <td>1</td>\n      <td>2</td>\n      <td>S30.0000,E140.0000</td>\n    </tr>\n    <tr>\n      <th>6</th>\n      <td>South America</td>\n      <td>12</td>\n      <td>11</td>\n      <td>20</td>\n      <td>S13.0000,W59.4000</td>\n    </tr>\n    <tr>\n      <th>7</th>\n      <td>Southern Africa</td>\n      <td>5</td>\n      <td>4</td>\n      <td>5</td>\n      <td>S24.647017,E24.125977</td>\n    </tr>\n    <tr>\n      <th>8</th>\n      <td>Sub Saharan Africa</td>\n      <td>2</td>\n      <td>3</td>\n      <td>5</td>\n      <td>N5.528511,E23.686523</td>\n    </tr>\n  </tbody>\n</table>\n</div>"
          },
          "metadata": {}
        }
      ]
    },
    {
      "cell_type": "markdown",
      "source": "Oceania had the least number of fugitives and Europe had the highest number of fugitives:",
      "metadata": {}
    },
    {
      "cell_type": "code",
      "source": "reg = reg.iloc[:6,:3]\nreg.max()",
      "metadata": {
        "trusted": true
      },
      "execution_count": 13,
      "outputs": [
        {
          "execution_count": 13,
          "output_type": "execute_result",
          "data": {
            "text/plain": "Region                Oceania\nNational Fugitives         50\nWanted Fugitives           50\ndtype: object"
          },
          "metadata": {}
        }
      ]
    },
    {
      "cell_type": "markdown",
      "source": "Total of fugitives by country",
      "metadata": {}
    },
    {
      "cell_type": "code",
      "source": "cnt = pd.read_csv('Countries.csv')\ncnt",
      "metadata": {
        "trusted": true
      },
      "execution_count": 17,
      "outputs": [
        {
          "execution_count": 17,
          "output_type": "execute_result",
          "data": {
            "text/plain": "          Country  National Fugitives  Wanted Fugitives  \\\n0         Albania                   3                 3   \n1          Angola                   0                 0   \n2       Argentina                   2                 2   \n3       Australia                   1                 1   \n4         Austria                   1                 1   \n..            ...                 ...               ...   \n73  United States                   8                11   \n74        Uruguay                   1                 1   \n75      Venezuela                   0                 1   \n76         Zambia                   1                 0   \n77       Zimbabwe                   0                 0   \n\n    Possible Hosted Fugitives / Captured Fugitives           Region  \\\n0                                                0           Europe   \n1                                                1  Northern Africa   \n2                                                1    South America   \n3                                                2          Oceania   \n4                                                0           Europe   \n..                                             ...              ...   \n73                                               6    North America   \n74                                               1    South America   \n75                                               0    South America   \n76                                               2  Southern Africa   \n77                                               2  Southern Africa   \n\n                                            Flag  \n0   http://www.crwflags.com/fotw/images/a/al.gif  \n1   http://www.crwflags.com/fotw/images/a/ao.gif  \n2   http://www.crwflags.com/fotw/images/a/ar.gif  \n3   http://www.crwflags.com/fotw/images/a/au.gif  \n4   http://www.crwflags.com/fotw/images/a/at.gif  \n..                                           ...  \n73  http://www.crwflags.com/fotw/images/u/us.gif  \n74  http://www.crwflags.com/fotw/images/u/uy.gif  \n75  http://www.crwflags.com/fotw/images/v/ve.gif  \n76  http://www.crwflags.com/fotw/images/z/zm.gif  \n77  http://www.crwflags.com/fotw/images/z/zw.gif  \n\n[78 rows x 6 columns]",
            "text/html": "<div>\n<style scoped>\n    .dataframe tbody tr th:only-of-type {\n        vertical-align: middle;\n    }\n\n    .dataframe tbody tr th {\n        vertical-align: top;\n    }\n\n    .dataframe thead th {\n        text-align: right;\n    }\n</style>\n<table border=\"1\" class=\"dataframe\">\n  <thead>\n    <tr style=\"text-align: right;\">\n      <th></th>\n      <th>Country</th>\n      <th>National Fugitives</th>\n      <th>Wanted Fugitives</th>\n      <th>Possible Hosted Fugitives / Captured Fugitives</th>\n      <th>Region</th>\n      <th>Flag</th>\n    </tr>\n  </thead>\n  <tbody>\n    <tr>\n      <th>0</th>\n      <td>Albania</td>\n      <td>3</td>\n      <td>3</td>\n      <td>0</td>\n      <td>Europe</td>\n      <td>http://www.crwflags.com/fotw/images/a/al.gif</td>\n    </tr>\n    <tr>\n      <th>1</th>\n      <td>Angola</td>\n      <td>0</td>\n      <td>0</td>\n      <td>1</td>\n      <td>Northern Africa</td>\n      <td>http://www.crwflags.com/fotw/images/a/ao.gif</td>\n    </tr>\n    <tr>\n      <th>2</th>\n      <td>Argentina</td>\n      <td>2</td>\n      <td>2</td>\n      <td>1</td>\n      <td>South America</td>\n      <td>http://www.crwflags.com/fotw/images/a/ar.gif</td>\n    </tr>\n    <tr>\n      <th>3</th>\n      <td>Australia</td>\n      <td>1</td>\n      <td>1</td>\n      <td>2</td>\n      <td>Oceania</td>\n      <td>http://www.crwflags.com/fotw/images/a/au.gif</td>\n    </tr>\n    <tr>\n      <th>4</th>\n      <td>Austria</td>\n      <td>1</td>\n      <td>1</td>\n      <td>0</td>\n      <td>Europe</td>\n      <td>http://www.crwflags.com/fotw/images/a/at.gif</td>\n    </tr>\n    <tr>\n      <th>...</th>\n      <td>...</td>\n      <td>...</td>\n      <td>...</td>\n      <td>...</td>\n      <td>...</td>\n      <td>...</td>\n    </tr>\n    <tr>\n      <th>73</th>\n      <td>United States</td>\n      <td>8</td>\n      <td>11</td>\n      <td>6</td>\n      <td>North America</td>\n      <td>http://www.crwflags.com/fotw/images/u/us.gif</td>\n    </tr>\n    <tr>\n      <th>74</th>\n      <td>Uruguay</td>\n      <td>1</td>\n      <td>1</td>\n      <td>1</td>\n      <td>South America</td>\n      <td>http://www.crwflags.com/fotw/images/u/uy.gif</td>\n    </tr>\n    <tr>\n      <th>75</th>\n      <td>Venezuela</td>\n      <td>0</td>\n      <td>1</td>\n      <td>0</td>\n      <td>South America</td>\n      <td>http://www.crwflags.com/fotw/images/v/ve.gif</td>\n    </tr>\n    <tr>\n      <th>76</th>\n      <td>Zambia</td>\n      <td>1</td>\n      <td>0</td>\n      <td>2</td>\n      <td>Southern Africa</td>\n      <td>http://www.crwflags.com/fotw/images/z/zm.gif</td>\n    </tr>\n    <tr>\n      <th>77</th>\n      <td>Zimbabwe</td>\n      <td>0</td>\n      <td>0</td>\n      <td>2</td>\n      <td>Southern Africa</td>\n      <td>http://www.crwflags.com/fotw/images/z/zw.gif</td>\n    </tr>\n  </tbody>\n</table>\n<p>78 rows × 6 columns</p>\n</div>"
          },
          "metadata": {}
        }
      ]
    },
    {
      "cell_type": "markdown",
      "source": "The United States is the country that had the highest wanted fugitives in 2014. A total of 11 wanted fugitives.",
      "metadata": {}
    },
    {
      "cell_type": "code",
      "source": "cnt['Wanted Fugitives'].max()",
      "metadata": {
        "trusted": true
      },
      "execution_count": 21,
      "outputs": [
        {
          "execution_count": 21,
          "output_type": "execute_result",
          "data": {
            "text/plain": "11"
          },
          "metadata": {}
        }
      ]
    },
    {
      "cell_type": "code",
      "source": "",
      "metadata": {},
      "execution_count": null,
      "outputs": []
    }
  ]
}